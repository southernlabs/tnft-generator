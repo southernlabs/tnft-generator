{
 "cells": [
  {
   "cell_type": "markdown",
   "metadata": {},
   "source": [
    "# NFT image and traits generator\n",
    "\n",
    "This scripts will collect layers from `image-sources` folder and build images for your NFT. It also will put this traits into JSON files for easy future deploy.\n",
    "\n",
    "Make sure you have edited this script as you need."
   ]
  },
  {
   "cell_type": "code",
   "execution_count": 22,
   "metadata": {},
   "outputs": [],
   "source": [
    "from PIL import Image \n",
    "from IPython.display import display \n",
    "import random\n",
    "import json"
   ]
  },
  {
   "cell_type": "code",
   "execution_count": 23,
   "metadata": {},
   "outputs": [],
   "source": [
    "# Each image is made up a series of traits\n",
    "# The weightings for each trait drive the rarity and add up to 100%\n",
    "AllTraits = [\n",
    "    {\n",
    "        \"name\": \"Hair\",\n",
    "        \"traits\":  [\"hair1\", \"hair2\", \"hair3\", \"hair4\"],\n",
    "        \"weights\": [30, 20, 10, 40],\n",
    "        \"folder\": \"hair\"\n",
    "    },\n",
    "    {\n",
    "        \"name\": \"Accessory\",\n",
    "        \"traits\":  [\"accessory1\", \"accessory2\", \"accessory3\", \"accessory4\"] ,\n",
    "        \"weights\": [25, 25, 25, 25],\n",
    "        \"folder\": \"accessory\"\n",
    "    },\n",
    "    {\n",
    "        \"name\": \"Face\",\n",
    "        \"traits\":  [\"face1\", \"face2\", \"face3\", \"face4\"],\n",
    "        \"weights\": [25, 25, 25, 25],\n",
    "        \"folder\": \"face\"\n",
    "    },\n",
    "    {\n",
    "        \"name\": \"Body\",\n",
    "        \"traits\":  [\"Duck\"],\n",
    "        \"weights\": [100],\n",
    "        \"files\": [\"Duck\"],\n",
    "        \"folder\": \"body\"\n",
    "    },\n",
    "    {\n",
    "        \"name\": \"Background\",\n",
    "        \"traits\":  [\"Green\",\"Yellow\",\"Blue\",\"White\"],\n",
    "        \"weights\": [30, 10, 20, 40],\n",
    "        \"folder\": \"background\"\n",
    "    }\n",
    "]"
   ]
  },
  {
   "cell_type": "code",
   "execution_count": 24,
   "metadata": {},
   "outputs": [
    {
     "name": "stdout",
     "output_type": "stream",
     "text": [
      "Hair: t: 4, w: 4\n",
      "Accessory: t: 4, w: 4\n",
      "Face: t: 4, w: 4\n",
      "Body: t: 1, w: 1\n",
      "Background: t: 4, w: 4\n"
     ]
    }
   ],
   "source": [
    "## Generate Traits\n",
    "\n",
    "TOTAL_IMAGES = 32 # Number of random unique images we want to generate\n",
    "\n",
    "all_images = [] \n",
    "\n",
    "# do check weights\n",
    "for trait in AllTraits:\n",
    "    print(trait[\"name\"] +\": t: \"+ str(len(trait[\"traits\"]))+ \", w: \" + str(len(trait[\"weights\"])))\n",
    "\n",
    "# A recursive function to generate unique image combinations\n",
    "def create_new_image():\n",
    "    \n",
    "    new_image = {} #\n",
    "\n",
    "    # For each trait category, select a random trait based on the weightings \n",
    "    for trait in AllTraits:\n",
    "        new_image[trait[\"name\"]] = random.choices(trait[\"traits\"], trait[\"weights\"])[0]\n",
    "\n",
    "\n",
    "    # Here you can add custom blacklist and do not generate images with specific traits\n",
    "    if new_image[\"Face\"] == \"face1\" and new_image[\"Accessory\"] == \"accessory1\":\n",
    "        return create_new_image()\n",
    "    \n",
    "\n",
    "    if new_image in all_images:\n",
    "        return create_new_image()\n",
    "    else:\n",
    "        return new_image\n",
    "    \n",
    "    \n",
    "# Generate the unique combinations based on trait weightings\n",
    "for i in range(TOTAL_IMAGES): \n",
    "    \n",
    "    new_trait_image = create_new_image()\n",
    "    \n",
    "    all_images.append(new_trait_image)\n",
    "    \n"
   ]
  },
  {
   "cell_type": "code",
   "execution_count": 25,
   "metadata": {},
   "outputs": [
    {
     "name": "stdout",
     "output_type": "stream",
     "text": [
      "Are all images unique? True\n"
     ]
    }
   ],
   "source": [
    "# Returns true if all images are unique\n",
    "def all_images_unique(all_images):\n",
    "    seen = list()\n",
    "    return not any(i in seen or seen.append(i) for i in all_images)\n",
    "\n",
    "print(\"Are all images unique?\", all_images_unique(all_images))"
   ]
  },
  {
   "cell_type": "code",
   "execution_count": 26,
   "metadata": {},
   "outputs": [
    {
     "name": "stdout",
     "output_type": "stream",
     "text": [
      "=====\n",
      "Hair: \n",
      "{'hair1': 5, 'hair2': 8, 'hair3': 1, 'hair4': 18}\n",
      "Accessory: \n",
      "{'accessory1': 5, 'accessory2': 12, 'accessory3': 7, 'accessory4': 8}\n",
      "Face: \n",
      "{'face1': 7, 'face2': 10, 'face3': 6, 'face4': 9}\n",
      "Body: \n",
      "{'Duck': 32}\n",
      "Background: \n",
      "{'Green': 11, 'Yellow': 2, 'Blue': 6, 'White': 13}\n"
     ]
    }
   ],
   "source": [
    "#Print counts of traits\n",
    "\n",
    "counts = {}\n",
    "\n",
    "for trait in AllTraits:\n",
    "    counts[trait[\"name\"]] = {}\n",
    "    for item in trait[\"traits\"]:\n",
    "        counts[trait[\"name\"]][item] = 0\n",
    "\n",
    "for image in all_images:\n",
    "    for k,c in counts.items():\n",
    "        counts[k][image[k]] += 1\n",
    "\n",
    "print(\"=====\")\n",
    "\n",
    "for k in counts:\n",
    "    print(k + \": \")\n",
    "    print(counts[k])"
   ]
  },
  {
   "cell_type": "code",
   "execution_count": 27,
   "metadata": {},
   "outputs": [],
   "source": [
    "# Add token Id to each image\n",
    "i = 0\n",
    "for item in all_images:\n",
    "    item[\"tokenId\"] = i\n",
    "    i = i + 1"
   ]
  },
  {
   "cell_type": "code",
   "execution_count": 28,
   "metadata": {
    "tags": []
   },
   "outputs": [],
   "source": [
    "#print(all_images)"
   ]
  },
  {
   "cell_type": "code",
   "execution_count": 29,
   "metadata": {},
   "outputs": [
    {
     "name": "stdout",
     "output_type": "stream",
     "text": [
      "{'Hair': {'hair1': 5, 'hair2': 8, 'hair3': 1, 'hair4': 18}, 'Accessory': {'accessory1': 5, 'accessory2': 12, 'accessory3': 7, 'accessory4': 8}, 'Face': {'face1': 7, 'face2': 10, 'face3': 6, 'face4': 9}, 'Body': {'Duck': 32}, 'Background': {'Green': 11, 'Yellow': 2, 'Blue': 6, 'White': 13}}\n"
     ]
    }
   ],
   "source": [
    "# Get Trait Counts\n",
    "\n",
    "counts = {}\n",
    "\n",
    "for trait in AllTraits:\n",
    "    counts[trait[\"name\"]] = {}\n",
    "    for item in trait[\"traits\"]:\n",
    "        counts[trait[\"name\"]][item] = 0\n",
    "\n",
    "for image in all_images:\n",
    "    for k,c in counts.items():\n",
    "        counts[k][image[k]] += 1\n",
    "    \n",
    "print(counts)"
   ]
  },
  {
   "cell_type": "code",
   "execution_count": 30,
   "metadata": {},
   "outputs": [],
   "source": [
    "#### Generate Metadata for all Traits \n",
    "METADATA_FILE_NAME = './metadata/all-traits.json'; \n",
    "with open(METADATA_FILE_NAME, 'w') as outfile:\n",
    "    json.dump(all_images, outfile, indent=4)"
   ]
  },
  {
   "cell_type": "code",
   "execution_count": 31,
   "metadata": {},
   "outputs": [],
   "source": [
    "# load an array of all images\n",
    "trait_img = {}\n",
    "for trait in AllTraits:\n",
    "    trait_img[trait[\"name\"]] = {}\n",
    "    for item in trait[\"traits\"]:\n",
    "        trait_img[trait[\"name\"]][item] = Image.open(f'./image-source/{trait[\"folder\"]}/{item}.png').convert('RGBA')\n",
    "        \n",
    "#watermark = Image.open(f'./watermark.png').convert('RGBA')\n",
    "\n",
    "#### Generate Images    \n",
    "for item in all_images:\n",
    "\n",
    "    im = Image.new('RGBA', (32,32))\n",
    "    \n",
    "    for trait in reversed(AllTraits):\n",
    "        #this_layer = Image.open(f'./image-source/{trait[\"folder\"]}/{item [ trait[\"name\"] ] }.png').convert('RGBA')\n",
    "        this_layer = trait_img[trait[\"name\"]][item [ trait[\"name\"] ]]\n",
    "        im = Image.alpha_composite(im, this_layer)\n",
    "\n",
    "\n",
    "    # WATERMARK\n",
    "    #im = Image.alpha_composite(im, watermark)\n",
    "\n",
    "    #Resize\n",
    "    im = im.resize((128,128), Image.Resampling.NEAREST)\n",
    "\n",
    "    #Convert to RGB (jpg much faster when we making tons of images. 3h to write 10k 1500x1500 png images VS 10 min to wrtie 10k jpg images)\n",
    "    im = im.convert('RGB')\n",
    "    file_name = str(item[\"tokenId\"]) + \".jpg\"\n",
    "    im.save(\"./images-output/\" + file_name, quality=90)\n",
    "    \n",
    "    "
   ]
  },
  {
   "cell_type": "code",
   "execution_count": 32,
   "metadata": {},
   "outputs": [],
   "source": [
    "#### Generate Metadata for each Image    \n",
    "\n",
    "f = open('./metadata/all-traits.json',) \n",
    "data = json.load(f)\n",
    "\n",
    "# Set your own\n",
    "IMAGES_BASE_URI = \"http:/localhost:8080/token/\"\n",
    "PROJECT_NAME = \"EverDucks\"\n",
    "\n",
    "def getAttribute(key, value):\n",
    "    return {\n",
    "        \"trait_type\": key,\n",
    "        \"value\": value\n",
    "    }\n",
    "for i in data:\n",
    "    token_id = i['tokenId']\n",
    "    token = {\n",
    "        \"image\": IMAGES_BASE_URI + str(token_id) + '.jpg',\n",
    "        \"tokenId\": token_id,\n",
    "        \"name\": PROJECT_NAME + ' ' + str(token_id),\n",
    "        \"attributes\": []\n",
    "    }\n",
    "\n",
    "    for trait in AllTraits:\n",
    "        token[\"attributes\"].append(getAttribute(trait[\"name\"], i[ trait[\"name\"] ]))\n",
    "\n",
    "    with open('./metadata/' + str(token_id), 'w') as outfile:\n",
    "        json.dump(token, outfile, indent=4)\n",
    "f.close()"
   ]
  }
 ],
 "metadata": {
  "interpreter": {
   "hash": "3d65f8beab89bca824669a8319117cabe601d9aca9a71aad8efeb42336828120"
  },
  "kernelspec": {
   "display_name": "Python 3.9.6 64-bit",
   "name": "python3"
  },
  "language_info": {
   "codemirror_mode": {
    "name": "ipython",
    "version": 3
   },
   "file_extension": ".py",
   "mimetype": "text/x-python",
   "name": "python",
   "nbconvert_exporter": "python",
   "pygments_lexer": "ipython3",
   "version": "3.10.4"
  }
 },
 "nbformat": 4,
 "nbformat_minor": 4
}
