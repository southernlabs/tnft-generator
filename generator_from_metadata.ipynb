{
 "cells": [
  {
   "cell_type": "markdown",
   "metadata": {},
   "source": [
    "# NFT image and traits generator\n",
    "\n",
    "This script used to build images from `image-sources` folder with predefined metadata and traits per NFT. You can use `./metadata/all-traits.json` (output from `generator.ipynb`) as input for this script. Useful when you need to handle and regenerate large amounts of images and dont need random traits."
   ]
  },
  {
   "cell_type": "code",
   "execution_count": 11,
   "metadata": {},
   "outputs": [],
   "source": [
    "from PIL import Image \n",
    "from IPython.display import display \n",
    "import random\n",
    "import json"
   ]
  },
  {
   "cell_type": "code",
   "execution_count": 12,
   "metadata": {},
   "outputs": [],
   "source": [
    "# Each image is made up a series of traits\n",
    "# The weightings for each trait drive the rarity and add up to 100%\n",
    "AllTraits = [\n",
    "    {\n",
    "        \"name\": \"Hair\",\n",
    "        \"traits\":  [\"hair1\", \"hair2\", \"hair3\", \"hair4\"],\n",
    "        \"weights\": [30, 20, 10, 40],\n",
    "        \"folder\": \"hair\"\n",
    "    },\n",
    "    {\n",
    "        \"name\": \"Accessory\",\n",
    "        \"traits\":  [\"accessory1\", \"accessory2\", \"accessory3\", \"accessory4\"] ,\n",
    "        \"weights\": [25, 25, 25, 25],\n",
    "        \"folder\": \"accessory\"\n",
    "    },\n",
    "    {\n",
    "        \"name\": \"Face\",\n",
    "        \"traits\":  [\"face1\", \"face2\", \"face3\", \"face4\"],\n",
    "        \"weights\": [25, 25, 25, 25],\n",
    "        \"folder\": \"face\"\n",
    "    },\n",
    "    {\n",
    "        \"name\": \"Body\",\n",
    "        \"traits\":  [\"Duck\"],\n",
    "        \"weights\": [100],\n",
    "        \"files\": [\"Duck\"],\n",
    "        \"folder\": \"body\"\n",
    "    },\n",
    "    {\n",
    "        \"name\": \"Background\",\n",
    "        \"traits\":  [\"Green\",\"Yellow\",\"Blue\",\"White\"],\n",
    "        \"weights\": [30, 10, 20, 40],\n",
    "        \"folder\": \"background\"\n",
    "    }\n",
    "]"
   ]
  },
  {
   "cell_type": "code",
   "execution_count": 13,
   "metadata": {},
   "outputs": [
    {
     "name": "stdout",
     "output_type": "stream",
     "text": [
      "Hair: t: 4, w: 4\n",
      "Accessory: t: 4, w: 4\n",
      "Face: t: 4, w: 4\n",
      "Body: t: 1, w: 1\n",
      "Background: t: 4, w: 4\n",
      "=====\n",
      "Hair: \n",
      "{'hair1': 5, 'hair2': 8, 'hair3': 1, 'hair4': 18}\n",
      "Accessory: \n",
      "{'accessory1': 5, 'accessory2': 12, 'accessory3': 7, 'accessory4': 8}\n",
      "Face: \n",
      "{'face1': 7, 'face2': 10, 'face3': 6, 'face4': 9}\n",
      "Body: \n",
      "{'Duck': 32}\n",
      "Background: \n",
      "{'Green': 11, 'Yellow': 2, 'Blue': 6, 'White': 13}\n"
     ]
    }
   ],
   "source": [
    "## Load traits\n",
    "\n",
    "TOTAL_IMAGES = 32 # Number of random unique images we want to generate\n",
    "\n",
    "all_images = [] \n",
    "\n",
    "# do check weights\n",
    "for trait in AllTraits:\n",
    "    print(trait[\"name\"] +\": t: \"+ str(len(trait[\"traits\"]))+ \", w: \" + str(len(trait[\"weights\"])))\n",
    "\n",
    "#### Generate Metadata for all Traits \n",
    "METADATA_FILE_NAME = './metadata/all-traits.json'; \n",
    "    \n",
    "with open(METADATA_FILE_NAME) as json_file:\n",
    "    all_images = json.load(json_file)\n",
    "\n",
    "\n",
    "counts = {}\n",
    "\n",
    "for trait in AllTraits:\n",
    "    counts[trait[\"name\"]] = {}\n",
    "    for item in trait[\"traits\"]:\n",
    "        counts[trait[\"name\"]][item] = 0\n",
    "\n",
    "for image in all_images:\n",
    "    for k,c in counts.items():\n",
    "        counts[k][image[k]] += 1\n",
    "\n",
    "print(\"=====\")\n",
    "\n",
    "for k in counts:\n",
    "    print(k + \": \")\n",
    "    print(counts[k])"
   ]
  },
  {
   "cell_type": "code",
   "execution_count": 14,
   "metadata": {},
   "outputs": [
    {
     "name": "stdout",
     "output_type": "stream",
     "text": [
      "Are all images unique? True\n"
     ]
    }
   ],
   "source": [
    "# Returns true if all images are unique\n",
    "def all_images_unique(all_images):\n",
    "    seen = list()\n",
    "    return not any(i in seen or seen.append(i) for i in all_images)\n",
    "\n",
    "print(\"Are all images unique?\", all_images_unique(all_images))"
   ]
  },
  {
   "cell_type": "code",
   "execution_count": 15,
   "metadata": {},
   "outputs": [],
   "source": [
    "# load an array of all images\n",
    "trait_img = {}\n",
    "for trait in AllTraits:\n",
    "    trait_img[trait[\"name\"]] = {}\n",
    "    for item in trait[\"traits\"]:\n",
    "        trait_img[trait[\"name\"]][item] = Image.open(f'./image-source/{trait[\"folder\"]}/{item}.png').convert('RGBA')\n",
    "        \n",
    "#watermark = Image.open(f'./watermark.png').convert('RGBA')\n",
    "\n",
    "#### Generate Images    \n",
    "for item in all_images:\n",
    "\n",
    "    im = Image.new('RGBA', (32,32))\n",
    "    \n",
    "    for trait in reversed(AllTraits):\n",
    "        this_layer = trait_img[trait[\"name\"]][item [ trait[\"name\"] ]]\n",
    "        im = Image.alpha_composite(im, this_layer)\n",
    "\n",
    "\n",
    "    # WATERMARK\n",
    "    \n",
    "    #im = Image.alpha_composite(im, watermark)\n",
    "\n",
    "    #Resize\n",
    "    im = im.resize((128,128), Image.Resampling.NEAREST)\n",
    "\n",
    "    #Convert to RGB\n",
    "    im = im.convert('RGB')\n",
    "    file_name = str(item[\"tokenId\"]) + \".jpg\"\n",
    "    im.save(\"./images-output/\" + file_name, quality=95)\n",
    "    "
   ]
  }
 ],
 "metadata": {
  "interpreter": {
   "hash": "c87b3114766150af71784ead996335dbe6b62987c353b6dd80c644a925234bfe"
  },
  "kernelspec": {
   "display_name": "Python 3.10.4 64-bit",
   "language": "python",
   "name": "python3"
  },
  "language_info": {
   "codemirror_mode": {
    "name": "ipython",
    "version": 3
   },
   "file_extension": ".py",
   "mimetype": "text/x-python",
   "name": "python",
   "nbconvert_exporter": "python",
   "pygments_lexer": "ipython3",
   "version": "3.10.4"
  },
  "orig_nbformat": 4
 },
 "nbformat": 4,
 "nbformat_minor": 2
}
